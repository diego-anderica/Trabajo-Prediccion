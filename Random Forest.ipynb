{
 "cells": [
  {
   "cell_type": "markdown",
   "metadata": {},
   "source": [
    "# Trabajo de Predicción\n",
    "El objetivo de este trabajo consiste en aplicar la técnica de Random Forest utilizando un archivo con datos acerca de los clicks recibidos desde un portal metabuscador de hoteles. De esta manera, se podrán predecir si estas búsquedas terminan o no en una reserva consolidada."
   ]
  },
  {
   "cell_type": "markdown",
   "metadata": {},
   "source": [
    "# Lectura y Visualización de Datos\n",
    "Lo primero que se realiza es la lectura de los datos proporcionados. Además, se visualizarán algunos de los datos de los que se compone el archivo, de tal manera que se puedan comprender los mismos."
   ]
  },
  {
   "cell_type": "code",
   "execution_count": 1,
   "metadata": {},
   "outputs": [],
   "source": [
    "# Importación del paquete Pandas para la lectura del archivo.\n",
    "import pandas as pd"
   ]
  },
  {
   "cell_type": "code",
   "execution_count": 2,
   "metadata": {},
   "outputs": [],
   "source": [
    "# Carga del archivo con los datos.\n",
    "data = pd.read_csv(\"./clicks.csv\")"
   ]
  },
  {
   "cell_type": "code",
   "execution_count": 3,
   "metadata": {},
   "outputs": [
    {
     "data": {
      "text/html": [
       "<div>\n",
       "<style scoped>\n",
       "    .dataframe tbody tr th:only-of-type {\n",
       "        vertical-align: middle;\n",
       "    }\n",
       "\n",
       "    .dataframe tbody tr th {\n",
       "        vertical-align: top;\n",
       "    }\n",
       "\n",
       "    .dataframe thead th {\n",
       "        text-align: right;\n",
       "    }\n",
       "</style>\n",
       "<table border=\"1\" class=\"dataframe\">\n",
       "  <thead>\n",
       "    <tr style=\"text-align: right;\">\n",
       "      <th></th>\n",
       "      <th>date</th>\n",
       "      <th>remite_id</th>\n",
       "      <th>checkin</th>\n",
       "      <th>checkout</th>\n",
       "      <th>adults</th>\n",
       "      <th>children</th>\n",
       "      <th>hotel_id</th>\n",
       "      <th>sale</th>\n",
       "    </tr>\n",
       "  </thead>\n",
       "  <tbody>\n",
       "    <tr>\n",
       "      <th>0</th>\n",
       "      <td>2016-04-01</td>\n",
       "      <td>89</td>\n",
       "      <td>2016-04-18</td>\n",
       "      <td>2016-04-26</td>\n",
       "      <td>2</td>\n",
       "      <td>0</td>\n",
       "      <td>255858</td>\n",
       "      <td>0</td>\n",
       "    </tr>\n",
       "    <tr>\n",
       "      <th>1</th>\n",
       "      <td>2016-04-01</td>\n",
       "      <td>89</td>\n",
       "      <td>2016-05-27</td>\n",
       "      <td>2016-05-28</td>\n",
       "      <td>2</td>\n",
       "      <td>2</td>\n",
       "      <td>80563</td>\n",
       "      <td>0</td>\n",
       "    </tr>\n",
       "    <tr>\n",
       "      <th>2</th>\n",
       "      <td>2016-04-01</td>\n",
       "      <td>89</td>\n",
       "      <td>2016-06-18</td>\n",
       "      <td>2016-06-19</td>\n",
       "      <td>2</td>\n",
       "      <td>0</td>\n",
       "      <td>165762</td>\n",
       "      <td>0</td>\n",
       "    </tr>\n",
       "    <tr>\n",
       "      <th>3</th>\n",
       "      <td>2016-04-01</td>\n",
       "      <td>89</td>\n",
       "      <td>2016-06-18</td>\n",
       "      <td>2016-06-19</td>\n",
       "      <td>2</td>\n",
       "      <td>0</td>\n",
       "      <td>165762</td>\n",
       "      <td>0</td>\n",
       "    </tr>\n",
       "    <tr>\n",
       "      <th>4</th>\n",
       "      <td>2016-04-01</td>\n",
       "      <td>89</td>\n",
       "      <td>2016-07-13</td>\n",
       "      <td>2016-08-20</td>\n",
       "      <td>2</td>\n",
       "      <td>0</td>\n",
       "      <td>849</td>\n",
       "      <td>0</td>\n",
       "    </tr>\n",
       "  </tbody>\n",
       "</table>\n",
       "</div>"
      ],
      "text/plain": [
       "         date  remite_id     checkin    checkout  adults  children  hotel_id  \\\n",
       "0  2016-04-01         89  2016-04-18  2016-04-26       2         0    255858   \n",
       "1  2016-04-01         89  2016-05-27  2016-05-28       2         2     80563   \n",
       "2  2016-04-01         89  2016-06-18  2016-06-19       2         0    165762   \n",
       "3  2016-04-01         89  2016-06-18  2016-06-19       2         0    165762   \n",
       "4  2016-04-01         89  2016-07-13  2016-08-20       2         0       849   \n",
       "\n",
       "   sale  \n",
       "0     0  \n",
       "1     0  \n",
       "2     0  \n",
       "3     0  \n",
       "4     0  "
      ]
     },
     "execution_count": 3,
     "metadata": {},
     "output_type": "execute_result"
    }
   ],
   "source": [
    "# Visualización de los primeros elementos.\n",
    "data.head(5)"
   ]
  },
  {
   "cell_type": "code",
   "execution_count": 4,
   "metadata": {},
   "outputs": [
    {
     "name": "stdout",
     "output_type": "stream",
     "text": [
      "Características iniciales: 8\n",
      "Elementos totales: 158161\n"
     ]
    }
   ],
   "source": [
    "print (\"Características iniciales: \" + str(len(data.columns)))\n",
    "print (\"Elementos totales: \" + str(len(data.index)))"
   ]
  },
  {
   "cell_type": "code",
   "execution_count": 5,
   "metadata": {},
   "outputs": [
    {
     "data": {
      "text/plain": [
       "date         object\n",
       "remite_id     int64\n",
       "checkin      object\n",
       "checkout     object\n",
       "adults        int64\n",
       "children      int64\n",
       "hotel_id      int64\n",
       "sale          int64\n",
       "dtype: object"
      ]
     },
     "execution_count": 5,
     "metadata": {},
     "output_type": "execute_result"
    }
   ],
   "source": [
    "# Visualización de los tipos de datos contenidos en el archivo.\n",
    "data.dtypes"
   ]
  },
  {
   "cell_type": "code",
   "execution_count": 6,
   "metadata": {
    "scrolled": false
   },
   "outputs": [
    {
     "name": "stdout",
     "output_type": "stream",
     "text": [
      "Valores diferentes para la característica 'date':\n",
      "2016-04-04    25001\n",
      "2016-04-01    24225\n",
      "2016-04-05    23563\n",
      "2016-04-03    23552\n",
      "2016-04-06    22394\n",
      "2016-04-07    20342\n",
      "2016-04-02    19084\n",
      "Name: date, dtype: int64\n",
      "\n",
      "\n",
      "Valores diferentes para la característica 'remite_id':\n",
      "27     126015\n",
      "130     15892\n",
      "89      13912\n",
      "316      1645\n",
      "317       697\n",
      "Name: remite_id, dtype: int64\n",
      "\n",
      "\n",
      "Valores diferentes para la característica 'checkin':\n",
      "2016-04-24    9026\n",
      "2016-04-09    4768\n",
      "2016-04-08    4479\n",
      "2016-04-10    3882\n",
      "2016-04-30    3270\n",
      "2016-04-29    3235\n",
      "2016-04-22    3122\n",
      "2016-04-17    2966\n",
      "2016-04-15    2910\n",
      "2016-04-23    2689\n",
      "2016-04-16    2621\n",
      "2016-04-02    2260\n",
      "2016-05-01    2235\n",
      "2016-05-13    2094\n",
      "2016-08-01    2093\n",
      "2016-05-14    2061\n",
      "2016-04-05    1974\n",
      "2016-04-07    1935\n",
      "2016-04-03    1761\n",
      "2016-05-06    1667\n",
      "2016-07-04    1631\n",
      "2016-07-18    1607\n",
      "2016-05-07    1557\n",
      "2016-08-08    1532\n",
      "2016-08-15    1501\n",
      "2016-04-11    1438\n",
      "2016-04-06    1413\n",
      "2016-08-22    1388\n",
      "2016-07-01    1315\n",
      "2016-05-27    1259\n",
      "              ... \n",
      "2017-01-14       2\n",
      "2017-02-19       2\n",
      "2017-02-10       2\n",
      "2017-03-03       2\n",
      "2017-01-31       2\n",
      "2017-01-08       2\n",
      "2017-03-06       2\n",
      "2016-12-14       2\n",
      "2017-01-28       2\n",
      "2017-01-10       2\n",
      "2016-03-18       1\n",
      "2017-02-27       1\n",
      "2016-03-25       1\n",
      "2016-03-26       1\n",
      "2017-03-04       1\n",
      "2017-02-12       1\n",
      "2017-02-03       1\n",
      "2017-01-21       1\n",
      "2017-01-22       1\n",
      "2017-01-24       1\n",
      "2017-02-14       1\n",
      "2017-02-15       1\n",
      "2017-02-16       1\n",
      "2017-02-17       1\n",
      "2017-01-30       1\n",
      "2015-09-08       1\n",
      "2017-01-19       1\n",
      "2017-01-18       1\n",
      "2017-02-09       1\n",
      "2017-03-07       1\n",
      "Name: checkin, Length: 342, dtype: int64\n",
      "\n",
      "\n",
      "Valores diferentes para la característica 'checkout':\n",
      "2016-04-25    9916\n",
      "2016-04-10    7274\n",
      "2016-05-02    5174\n",
      "2016-04-17    4541\n",
      "2016-04-11    4235\n",
      "2016-04-24    4098\n",
      "2016-04-18    3302\n",
      "2016-05-08    2622\n",
      "2016-05-01    2567\n",
      "2016-05-15    2011\n",
      "2016-04-03    1952\n",
      "2016-04-04    1947\n",
      "2016-05-16    1840\n",
      "2016-06-26    1781\n",
      "2016-04-09    1739\n",
      "2016-04-06    1704\n",
      "2016-04-08    1667\n",
      "2016-05-29    1663\n",
      "2016-07-10    1642\n",
      "2016-05-22    1423\n",
      "2016-06-12    1336\n",
      "2016-07-31    1329\n",
      "2016-08-07    1301\n",
      "2016-07-03    1277\n",
      "2016-04-07    1269\n",
      "2016-08-14    1269\n",
      "2016-05-03    1238\n",
      "2016-04-16    1227\n",
      "2016-04-12    1224\n",
      "2016-05-09    1187\n",
      "              ... \n",
      "2017-03-02       2\n",
      "2016-03-27       2\n",
      "2017-01-12       2\n",
      "2017-03-25       2\n",
      "2017-02-21       2\n",
      "2017-01-19       2\n",
      "2017-01-20       2\n",
      "2017-01-30       2\n",
      "2017-02-15       2\n",
      "2017-02-11       2\n",
      "2017-01-28       2\n",
      "2017-03-31       1\n",
      "2017-03-06       1\n",
      "2017-01-24       1\n",
      "2017-02-16       1\n",
      "2017-01-10       1\n",
      "2017-02-24       1\n",
      "2017-02-17       1\n",
      "2017-02-22       1\n",
      "2015-09-12       1\n",
      "2017-03-07       1\n",
      "2017-01-29       1\n",
      "2017-01-26       1\n",
      "2017-03-09       1\n",
      "2017-02-01       1\n",
      "2017-03-11       1\n",
      "2017-03-17       1\n",
      "2017-03-14       1\n",
      "2016-03-19       1\n",
      "2017-03-19       1\n",
      "Name: checkout, Length: 348, dtype: int64\n",
      "\n",
      "\n",
      "Valores diferentes para la característica 'adults':\n",
      "2    140026\n",
      "1      8879\n",
      "3      6952\n",
      "4      2301\n",
      "5         3\n",
      "Name: adults, dtype: int64\n",
      "\n",
      "\n",
      "Valores diferentes para la característica 'children':\n",
      "0    111227\n",
      "2     24069\n",
      "1     21281\n",
      "3      1448\n",
      "4       136\n",
      "Name: children, dtype: int64\n",
      "\n",
      "\n",
      "Valores diferentes para la característica 'hotel_id':\n",
      "150845    1438\n",
      "1869      1321\n",
      "162483    1217\n",
      "191568    1139\n",
      "336        984\n",
      "150476     920\n",
      "185272     893\n",
      "206352     827\n",
      "118        812\n",
      "247        771\n",
      "107        768\n",
      "4598       743\n",
      "168271     733\n",
      "203597     726\n",
      "150475     650\n",
      "219334     603\n",
      "4270       599\n",
      "188372     576\n",
      "154732     556\n",
      "195699     551\n",
      "150968     549\n",
      "150992     516\n",
      "150505     480\n",
      "166990     477\n",
      "192356     471\n",
      "192146     466\n",
      "196382     463\n",
      "192965     422\n",
      "191062     415\n",
      "194467     412\n",
      "          ... \n",
      "152045       1\n",
      "194700       1\n",
      "100419       1\n",
      "38971        1\n",
      "193782       1\n",
      "204491       1\n",
      "218818       1\n",
      "192117       1\n",
      "185970       1\n",
      "1576         1\n",
      "112071       1\n",
      "153058       1\n",
      "210382       1\n",
      "163175       1\n",
      "116169       1\n",
      "290085       1\n",
      "148576       1\n",
      "170017       1\n",
      "25636        1\n",
      "224197       1\n",
      "368465       1\n",
      "194444       1\n",
      "224069       1\n",
      "206774       1\n",
      "229022       1\n",
      "1777         1\n",
      "237916       1\n",
      "192300       1\n",
      "221380       1\n",
      "4098         1\n",
      "Name: hotel_id, Length: 9662, dtype: int64\n",
      "\n",
      "\n",
      "Valores diferentes para la característica 'sale':\n",
      "0    155070\n",
      "1      3091\n",
      "Name: sale, dtype: int64\n"
     ]
    }
   ],
   "source": [
    "# Visualización de las variables junto con el total de los diferentes valores que toma cada una.\n",
    "\n",
    "caracteristicas = data.columns\n",
    "\n",
    "for caracteristica in caracteristicas:\n",
    "    print (\"Valores diferentes para la característica '\" + caracteristica + \"':\")\n",
    "    print (data[caracteristica].value_counts())\n",
    "\n",
    "    if \"sale\" != caracteristica:\n",
    "        print (\"\\n\")"
   ]
  },
  {
   "cell_type": "markdown",
   "metadata": {},
   "source": [
    "Como se puede observar, existe un total de 8 características y 158.161 elementos dentro del archivo proporcionado. Como se describe en el enunciado, las características son las siguientes:\n",
    "   - date (objeto). Fecha del click (acotado a una semana, como se ve en los resultados anteriores)\n",
    "   - remite_id (int64). Mercado geográfico del portal.\n",
    "   - checkin (objeto). Fecha de checkin en la búsqueda.\n",
    "   - checkout (objeto). Fecha de checkout en la búsqueda.\n",
    "   - adults (int64). Número de adultos en la búsqueda.\n",
    "   - children (int64). Número de niños en la búsqueda.\n",
    "   - hotel_id (int64). Hotel en el que se ha hecho click.\n",
    "   - sale (int64). Si el click resultó en una reserva (1) o no (0).\n",
    "\n",
    "Además, no existen datos nulos en el archivo, por lo que no será necesario su tratamiento antes de trabajar con los datos."
   ]
  },
  {
   "cell_type": "code",
   "execution_count": 7,
   "metadata": {},
   "outputs": [
    {
     "data": {
      "text/html": [
       "<div>\n",
       "<style scoped>\n",
       "    .dataframe tbody tr th:only-of-type {\n",
       "        vertical-align: middle;\n",
       "    }\n",
       "\n",
       "    .dataframe tbody tr th {\n",
       "        vertical-align: top;\n",
       "    }\n",
       "\n",
       "    .dataframe thead th {\n",
       "        text-align: right;\n",
       "    }\n",
       "</style>\n",
       "<table border=\"1\" class=\"dataframe\">\n",
       "  <thead>\n",
       "    <tr style=\"text-align: right;\">\n",
       "      <th></th>\n",
       "      <th>count</th>\n",
       "      <th>mean</th>\n",
       "      <th>std</th>\n",
       "      <th>min</th>\n",
       "      <th>25%</th>\n",
       "      <th>50%</th>\n",
       "      <th>75%</th>\n",
       "      <th>max</th>\n",
       "    </tr>\n",
       "  </thead>\n",
       "  <tbody>\n",
       "    <tr>\n",
       "      <th>remite_id</th>\n",
       "      <td>158161.0</td>\n",
       "      <td>47.086842</td>\n",
       "      <td>47.328124</td>\n",
       "      <td>27.0</td>\n",
       "      <td>27.0</td>\n",
       "      <td>27.0</td>\n",
       "      <td>27.0</td>\n",
       "      <td>317.0</td>\n",
       "    </tr>\n",
       "    <tr>\n",
       "      <th>adults</th>\n",
       "      <td>158161.0</td>\n",
       "      <td>2.016970</td>\n",
       "      <td>0.397708</td>\n",
       "      <td>1.0</td>\n",
       "      <td>2.0</td>\n",
       "      <td>2.0</td>\n",
       "      <td>2.0</td>\n",
       "      <td>5.0</td>\n",
       "    </tr>\n",
       "    <tr>\n",
       "      <th>children</th>\n",
       "      <td>158161.0</td>\n",
       "      <td>0.469819</td>\n",
       "      <td>0.786577</td>\n",
       "      <td>0.0</td>\n",
       "      <td>0.0</td>\n",
       "      <td>0.0</td>\n",
       "      <td>1.0</td>\n",
       "      <td>4.0</td>\n",
       "    </tr>\n",
       "    <tr>\n",
       "      <th>hotel_id</th>\n",
       "      <td>158161.0</td>\n",
       "      <td>125089.567295</td>\n",
       "      <td>97022.122353</td>\n",
       "      <td>4.0</td>\n",
       "      <td>4676.0</td>\n",
       "      <td>151728.0</td>\n",
       "      <td>192149.0</td>\n",
       "      <td>398894.0</td>\n",
       "    </tr>\n",
       "    <tr>\n",
       "      <th>sale</th>\n",
       "      <td>158161.0</td>\n",
       "      <td>0.019543</td>\n",
       "      <td>0.138425</td>\n",
       "      <td>0.0</td>\n",
       "      <td>0.0</td>\n",
       "      <td>0.0</td>\n",
       "      <td>0.0</td>\n",
       "      <td>1.0</td>\n",
       "    </tr>\n",
       "  </tbody>\n",
       "</table>\n",
       "</div>"
      ],
      "text/plain": [
       "              count           mean           std   min     25%       50%  \\\n",
       "remite_id  158161.0      47.086842     47.328124  27.0    27.0      27.0   \n",
       "adults     158161.0       2.016970      0.397708   1.0     2.0       2.0   \n",
       "children   158161.0       0.469819      0.786577   0.0     0.0       0.0   \n",
       "hotel_id   158161.0  125089.567295  97022.122353   4.0  4676.0  151728.0   \n",
       "sale       158161.0       0.019543      0.138425   0.0     0.0       0.0   \n",
       "\n",
       "                75%       max  \n",
       "remite_id      27.0     317.0  \n",
       "adults          2.0       5.0  \n",
       "children        1.0       4.0  \n",
       "hotel_id   192149.0  398894.0  \n",
       "sale            0.0       1.0  "
      ]
     },
     "execution_count": 7,
     "metadata": {},
     "output_type": "execute_result"
    }
   ],
   "source": [
    "# Obtención de datos estadísticos de las variables cuantitativas iniciales.\n",
    "data.describe().transpose()"
   ]
  },
  {
   "cell_type": "markdown",
   "metadata": {},
   "source": [
    "# Tratamiento y Graficado de los Datos Iniciales"
   ]
  },
  {
   "cell_type": "code",
   "execution_count": 8,
   "metadata": {},
   "outputs": [],
   "source": [
    "# Importación de paquetes necesarios para la representación gráfica de los datos.\n",
    "import matplotlib.pyplot as plt\n",
    "import seaborn as sb"
   ]
  },
  {
   "cell_type": "code",
   "execution_count": 9,
   "metadata": {},
   "outputs": [
    {
     "data": {
      "image/png": "[encoded data removed]",
      "text/plain": [
       "<Figure size 432x288 with 6 Axes>"
      ]
     },
     "metadata": {
      "needs_background": "light"
     },
     "output_type": "display_data"
    }
   ],
   "source": [
    "# Visualización de los valores del dataset\n",
    "data.hist()\n",
    "plt.show()"
   ]
  },
  {
   "cell_type": "markdown",
   "metadata": {},
   "source": [
    "Como se puede observar en las gráficas anteriores, y mirando a los resultados de la ejecución de celdas anteriores, se desprenden algunos hechos. El primero, que la fecha de check-in y check-out para la mayoría de los viajes era para ese mismo año, aunque hay una minoría para el año siguiente. La cantidad de adultos mayoritaria en las consultas era de 2. De igual manera, la cantidad de niños en la mayoría de las consultas fue de 0. Por último, únicamente el 1.954% de las búsquedas resultó en una reserva final."
   ]
  },
  {
   "cell_type": "markdown",
   "metadata": {},
   "source": [
    "# Predicción\n",
    "A continuación, se realizarán los pasos necesarios para llevar a cabo una predicción utilizando la técnica de *Random Forest*. Para ello, se han seleccionado las características *remite_id*, *adults*, *children* y *hotel_id*, descartando las relacionadas con las fechas, puesto que no se consideran de relevancia para la consecución del objetivo de predicción."
   ]
  },
  {
   "cell_type": "code",
   "execution_count": 10,
   "metadata": {},
   "outputs": [],
   "source": [
    "# Selección de características a utilizar y 'target'\n",
    "pred_caract = ['remite_id', 'adults', 'children', 'hotel_id']\n",
    "target = ['sale']\n",
    "\n",
    "# Extracción de las características que se utilizarán para la predicción.\n",
    "X = data[pred_caract]\n",
    "\n",
    "# Extracción de la característica a ser predicha (sale).\n",
    "y = data[target]"
   ]
  },
  {
   "cell_type": "markdown",
   "metadata": {},
   "source": [
    "En el caso de que se utilice una separación de los registros de manera aleatoria, se utilizarían las líneas contenidas en las dos siguientes celdas. Aunque se puede definir un *random_state* a la hora de llamar a la función *train_test_split* como semilla para la aleatoriedad de la generación de los diferentes *subsets* (definido a 0 en el ejemplo), de manera que se pueda conseguir un resultado determinista, se ha optado por separar los datos por fechas. Esta decisión ha sido tomada en base a la documentación proporcionada de la asignatura de DSI, donde se recomienda que, siempre y cuando haya una <<dimensión temporal para cortar>>, se realice esta tarea de manera estática.\n",
    "\n",
    "Por tanto, en lugar de utilizar un 60% para entrenamiento (0.6 x 158161=94.897) y 40% para evaluación (0.4 x 158161=63.264), se utilizarán las fechas de búsqueda de los registros, ya que el tiempo de estas es de una semana. Finalmente, se decide dividir los registros del 2016-04-01 al 2016-04-04 para entrenamiento y del 2016-04-05 al 2016-04-07 para evaluación."
   ]
  },
  {
   "cell_type": "code",
   "execution_count": 11,
   "metadata": {},
   "outputs": [],
   "source": [
    "# Importación del paquete necesario para la extracción de las muestras de entrenamiento y test. \n",
    "# from sklearn.model_selection import train_test_split"
   ]
  },
  {
   "cell_type": "code",
   "execution_count": 12,
   "metadata": {},
   "outputs": [],
   "source": [
    "# Extracción de las muestras de entrenamiento (X_train, y_train) y de prueba (X_test, y_test).\n",
    "# Se ha establecido un porcentaje del 60% para el entrenamiento y un 40% para evaluar el modelo.\n",
    "\n",
    "# X_train, X_test, y_train, y_test = train_test_split(X, y, test_size=0.4, random_state=0)"
   ]
  },
  {
   "cell_type": "code",
   "execution_count": 13,
   "metadata": {},
   "outputs": [],
   "source": [
    "fechas_train = ('2016-04-01', '2016-04-02', '2016-04-03', '2016-04-04')\n",
    "fechas_test = ('2016-04-05', '2016-04-06', '2016-04-07')"
   ]
  },
  {
   "cell_type": "code",
   "execution_count": 14,
   "metadata": {},
   "outputs": [],
   "source": [
    "X_train = X.loc[data['date'].isin(fechas_train)]\n",
    "X_test = X.loc[data['date'].isin(fechas_test)]\n",
    "y_train = y.loc[data['date'].isin(fechas_train)]\n",
    "y_test = y.loc[data['date'].isin(fechas_test)]"
   ]
  },
  {
   "cell_type": "code",
   "execution_count": 15,
   "metadata": {},
   "outputs": [
    {
     "name": "stdout",
     "output_type": "stream",
     "text": [
      "remite_id    91862\n",
      "adults       91862\n",
      "children     91862\n",
      "hotel_id     91862\n",
      "dtype: int64\n",
      "\n",
      "sale    66299\n",
      "dtype: int64\n"
     ]
    }
   ],
   "source": [
    "print (str(X_train.count()) + \"\\n\")\n",
    "print (y_test.count())"
   ]
  },
  {
   "cell_type": "markdown",
   "metadata": {},
   "source": [
    "Como se puede observar, aunque la cantidad de registros no es exactamente 60%/40%, el número de estos en cada *dataset* utilizando la separación de fechas se acerca mucho. "
   ]
  },
  {
   "cell_type": "code",
   "execution_count": 16,
   "metadata": {},
   "outputs": [],
   "source": [
    "# Importación del paquete necesario para la creación de un modelo usando un clasificador basado en Random Forest.\n",
    "from sklearn.ensemble import RandomForestClassifier\n",
    "\n",
    "# Importación de la librería numpy.\n",
    "import numpy as np"
   ]
  },
  {
   "cell_type": "code",
   "execution_count": 17,
   "metadata": {},
   "outputs": [],
   "source": [
    "# Creación del modelo.\n",
    "# Se define 'n_jobs' a -1, de manera que se utilicen todos los núcleos disponibles, así como 'random_state=0'\n",
    "# para obtener resultados deterministas en cada ejecución.\n",
    "\n",
    "model = RandomForestClassifier(n_jobs=-1, random_state=0)\n",
    "\n",
    "# Construcción del modelo\n",
    "# model.fit(X_train, y_train)"
   ]
  },
  {
   "cell_type": "markdown",
   "metadata": {},
   "source": [
    "A continuación, se realizarán algunas pruebas de cara a determinar el valor para el número de estimadores y la profundidad máxima que debe alcanzar cada uno de los árboles.\n",
    "\n",
    "Por defecto, los parámetros utilizados para algunas de los parámetros más importantes son los siguientes:\n",
    "\n",
    " - El **criterio de selección** para la creación del modelo es el de ***gini***, que mide la pureza del corte.\n",
    " - El **número mínimo de observaciones** requeridas para dividir un nodo (*split size*) es 2.\n",
    " - El **número mínimo de observaciones** (*leaf size*) por nodo final es 1.\n",
    " \n",
    "Además, se utilizará el *score* que se obtenga para cada una de las ejecuciones. Este valor representa la precisión media de la predicción realizada en cada paso."
   ]
  },
  {
   "cell_type": "code",
   "execution_count": 18,
   "metadata": {
    "scrolled": false
   },
   "outputs": [
    {
     "name": "stderr",
     "output_type": "stream",
     "text": [
      "/anaconda2/lib/python2.7/site-packages/ipykernel_launcher.py:7: DataConversionWarning: A column-vector y was passed when a 1d array was expected. Please change the shape of y to (n_samples,), for example using ravel().\n",
      "  import sys\n",
      "/anaconda2/lib/python2.7/site-packages/ipykernel_launcher.py:7: DataConversionWarning: A column-vector y was passed when a 1d array was expected. Please change the shape of y to (n_samples,), for example using ravel().\n",
      "  import sys\n",
      "/anaconda2/lib/python2.7/site-packages/ipykernel_launcher.py:7: DataConversionWarning: A column-vector y was passed when a 1d array was expected. Please change the shape of y to (n_samples,), for example using ravel().\n",
      "  import sys\n",
      "/anaconda2/lib/python2.7/site-packages/ipykernel_launcher.py:7: DataConversionWarning: A column-vector y was passed when a 1d array was expected. Please change the shape of y to (n_samples,), for example using ravel().\n",
      "  import sys\n",
      "/anaconda2/lib/python2.7/site-packages/ipykernel_launcher.py:7: DataConversionWarning: A column-vector y was passed when a 1d array was expected. Please change the shape of y to (n_samples,), for example using ravel().\n",
      "  import sys\n",
      "/anaconda2/lib/python2.7/site-packages/ipykernel_launcher.py:7: DataConversionWarning: A column-vector y was passed when a 1d array was expected. Please change the shape of y to (n_samples,), for example using ravel().\n",
      "  import sys\n",
      "/anaconda2/lib/python2.7/site-packages/ipykernel_launcher.py:7: DataConversionWarning: A column-vector y was passed when a 1d array was expected. Please change the shape of y to (n_samples,), for example using ravel().\n",
      "  import sys\n",
      "/anaconda2/lib/python2.7/site-packages/ipykernel_launcher.py:7: DataConversionWarning: A column-vector y was passed when a 1d array was expected. Please change the shape of y to (n_samples,), for example using ravel().\n",
      "  import sys\n",
      "/anaconda2/lib/python2.7/site-packages/ipykernel_launcher.py:7: DataConversionWarning: A column-vector y was passed when a 1d array was expected. Please change the shape of y to (n_samples,), for example using ravel().\n",
      "  import sys\n"
     ]
    },
    {
     "data": {
      "text/plain": [
       "[<matplotlib.lines.Line2D at 0x1a1fb29610>]"
      ]
     },
     "execution_count": 18,
     "metadata": {},
     "output_type": "execute_result"
    },
    {
     "data": {
      "image/png": "[encoded data removed]",
      "text/plain": [
       "<Figure size 432x288 with 1 Axes>"
      ]
     },
     "metadata": {
      "needs_background": "light"
     },
     "output_type": "display_data"
    }
   ],
   "source": [
    "# Probar diferentes cantidades de estimadores (n_estimators)\n",
    "estimators = np.arange(2, 20, 2)\n",
    "scores = []\n",
    "\n",
    "for n in estimators:\n",
    "    model.set_params(n_estimators=n)\n",
    "    model.fit(X_train, y_train)\n",
    "    scores.append(model.score(X_test, y_test))\n",
    "\n",
    "plt.title(\"Score segun 'n_estimators'\")\n",
    "plt.xlabel(\"n_estimators\")\n",
    "plt.ylabel(\"score\")\n",
    "plt.plot(estimators, scores)"
   ]
  },
  {
   "cell_type": "code",
   "execution_count": 19,
   "metadata": {},
   "outputs": [
    {
     "name": "stderr",
     "output_type": "stream",
     "text": [
      "/anaconda2/lib/python2.7/site-packages/ipykernel_launcher.py:7: DataConversionWarning: A column-vector y was passed when a 1d array was expected. Please change the shape of y to (n_samples,), for example using ravel().\n",
      "  import sys\n",
      "/anaconda2/lib/python2.7/site-packages/ipykernel_launcher.py:7: DataConversionWarning: A column-vector y was passed when a 1d array was expected. Please change the shape of y to (n_samples,), for example using ravel().\n",
      "  import sys\n",
      "/anaconda2/lib/python2.7/site-packages/ipykernel_launcher.py:7: DataConversionWarning: A column-vector y was passed when a 1d array was expected. Please change the shape of y to (n_samples,), for example using ravel().\n",
      "  import sys\n",
      "/anaconda2/lib/python2.7/site-packages/ipykernel_launcher.py:7: DataConversionWarning: A column-vector y was passed when a 1d array was expected. Please change the shape of y to (n_samples,), for example using ravel().\n",
      "  import sys\n",
      "/anaconda2/lib/python2.7/site-packages/ipykernel_launcher.py:7: DataConversionWarning: A column-vector y was passed when a 1d array was expected. Please change the shape of y to (n_samples,), for example using ravel().\n",
      "  import sys\n",
      "/anaconda2/lib/python2.7/site-packages/ipykernel_launcher.py:7: DataConversionWarning: A column-vector y was passed when a 1d array was expected. Please change the shape of y to (n_samples,), for example using ravel().\n",
      "  import sys\n",
      "/anaconda2/lib/python2.7/site-packages/ipykernel_launcher.py:7: DataConversionWarning: A column-vector y was passed when a 1d array was expected. Please change the shape of y to (n_samples,), for example using ravel().\n",
      "  import sys\n",
      "/anaconda2/lib/python2.7/site-packages/ipykernel_launcher.py:7: DataConversionWarning: A column-vector y was passed when a 1d array was expected. Please change the shape of y to (n_samples,), for example using ravel().\n",
      "  import sys\n",
      "/anaconda2/lib/python2.7/site-packages/ipykernel_launcher.py:7: DataConversionWarning: A column-vector y was passed when a 1d array was expected. Please change the shape of y to (n_samples,), for example using ravel().\n",
      "  import sys\n"
     ]
    },
    {
     "data": {
      "text/plain": [
       "[<matplotlib.lines.Line2D at 0x1a1fa3ad90>]"
      ]
     },
     "execution_count": 19,
     "metadata": {},
     "output_type": "execute_result"
    },
    {
     "data": {
      "image/png": "[encoded data removed]",
      "text/plain": [
       "<Figure size 432x288 with 1 Axes>"
      ]
     },
     "metadata": {
      "needs_background": "light"
     },
     "output_type": "display_data"
    }
   ],
   "source": [
    "# Probar con diferentes profundidades de árbol.\n",
    "estimators = np.arange(2, 20, 2)\n",
    "scores = []\n",
    "\n",
    "for n in estimators:\n",
    "    model.set_params(max_depth=n, n_estimators=12)\n",
    "    model.fit(X_train, y_train)\n",
    "    scores.append(model.score(X_test, y_test))\n",
    "\n",
    "plt.title(\"Score segun 'max_depth'\")\n",
    "plt.xlabel(\"max_depth\")\n",
    "plt.ylabel(\"score\")\n",
    "plt.plot(estimators, scores)"
   ]
  },
  {
   "cell_type": "markdown",
   "metadata": {},
   "source": [
    "Tras observar los gráficos de ambas pruebas se llega a las siguientes conclusiones:\n",
    "\n",
    " - En la primera ejecución, el aumento en el **número de estimadores** (por defecto, todos los nodos se expanden al máximo) favorece el *score*, alcanzando un mínimo global en 2 y un mínimo local en 10. El mejor resultado se observa cuando este parámetro se sitúa en el valor 12. Por tanto, será el que se utilizará para la predicción final, puesto que cuanto mayor sea este número, el bosque se encontrará más poblado y la votación para llevar a cabo la decisión será más precisa.\n",
    " - En la segunda ejecución, el aumento en la **profundidad máxima** no varía hasta alcanzar una profundidad de 8, desde donde comienza a decrecer. Por tanto, en pos de generar un modelo no demasiado complejo, pero que sea capaz de realizar unas buenas predicciones, se escogerá el valor de 4 (ni demasiada profundidad ni demasiada poca)."
   ]
  },
  {
   "cell_type": "code",
   "execution_count": 20,
   "metadata": {},
   "outputs": [
    {
     "name": "stderr",
     "output_type": "stream",
     "text": [
      "/anaconda2/lib/python2.7/site-packages/ipykernel_launcher.py:4: DataConversionWarning: A column-vector y was passed when a 1d array was expected. Please change the shape of y to (n_samples,), for example using ravel().\n",
      "  after removing the cwd from sys.path.\n"
     ]
    },
    {
     "data": {
      "text/plain": [
       "RandomForestClassifier(bootstrap=True, class_weight=None, criterion='gini',\n",
       "            max_depth=4, max_features='auto', max_leaf_nodes=None,\n",
       "            min_impurity_decrease=0.0, min_impurity_split=None,\n",
       "            min_samples_leaf=1, min_samples_split=2,\n",
       "            min_weight_fraction_leaf=0.0, n_estimators=12, n_jobs=-1,\n",
       "            oob_score=False, random_state=0, verbose=0, warm_start=False)"
      ]
     },
     "execution_count": 20,
     "metadata": {},
     "output_type": "execute_result"
    }
   ],
   "source": [
    "# Creación del modelo final\n",
    "model = RandomForestClassifier(n_jobs=-1, random_state=0)\n",
    "model.set_params(max_depth=4, n_estimators=12)\n",
    "model.fit(X_train, y_train)"
   ]
  },
  {
   "cell_type": "code",
   "execution_count": 21,
   "metadata": {},
   "outputs": [
    {
     "name": "stdout",
     "output_type": "stream",
     "text": [
      "Relevancias de las características:\n"
     ]
    },
    {
     "data": {
      "text/html": [
       "<div>\n",
       "<style scoped>\n",
       "    .dataframe tbody tr th:only-of-type {\n",
       "        vertical-align: middle;\n",
       "    }\n",
       "\n",
       "    .dataframe tbody tr th {\n",
       "        vertical-align: top;\n",
       "    }\n",
       "\n",
       "    .dataframe thead th {\n",
       "        text-align: right;\n",
       "    }\n",
       "</style>\n",
       "<table border=\"1\" class=\"dataframe\">\n",
       "  <thead>\n",
       "    <tr style=\"text-align: right;\">\n",
       "      <th></th>\n",
       "      <th>Características</th>\n",
       "      <th>Random Forests</th>\n",
       "    </tr>\n",
       "  </thead>\n",
       "  <tbody>\n",
       "    <tr>\n",
       "      <th>0</th>\n",
       "      <td>remite_id</td>\n",
       "      <td>0.210487</td>\n",
       "    </tr>\n",
       "    <tr>\n",
       "      <th>1</th>\n",
       "      <td>adults</td>\n",
       "      <td>0.354919</td>\n",
       "    </tr>\n",
       "    <tr>\n",
       "      <th>2</th>\n",
       "      <td>children</td>\n",
       "      <td>0.123061</td>\n",
       "    </tr>\n",
       "    <tr>\n",
       "      <th>3</th>\n",
       "      <td>hotel_id</td>\n",
       "      <td>0.311533</td>\n",
       "    </tr>\n",
       "  </tbody>\n",
       "</table>\n",
       "</div>"
      ],
      "text/plain": [
       "  Características  Random Forests\n",
       "0       remite_id        0.210487\n",
       "1          adults        0.354919\n",
       "2        children        0.123061\n",
       "3        hotel_id        0.311533"
      ]
     },
     "execution_count": 21,
     "metadata": {},
     "output_type": "execute_result"
    }
   ],
   "source": [
    "# Relevancias de las características.\n",
    "print ('Relevancias de las características:')\n",
    "pd.DataFrame({'Características': pred_caract, 'Random Forests':model.feature_importances_})"
   ]
  },
  {
   "cell_type": "code",
   "execution_count": 22,
   "metadata": {},
   "outputs": [
    {
     "data": {
      "image/png": "[encoded data removed]",
      "text/plain": [
       "<Figure size 432x288 with 1 Axes>"
      ]
     },
     "metadata": {
      "needs_background": "light"
     },
     "output_type": "display_data"
    }
   ],
   "source": [
    "# Gráfico con las importancias de las características del modelo creado.\n",
    "importancias_caract = pd.Series(model.feature_importances_, index=pred_caract).sort_values(ascending=False)\n",
    "\n",
    "%matplotlib inline\n",
    "\n",
    "sb.barplot(x=importancias_caract, y=importancias_caract.index)\n",
    "\n",
    "plt.xlabel('Importancia')\n",
    "plt.ylabel('Caracteristicas')\n",
    "plt.title(\"Importancia de las Caracteristicas del Modelo\")\n",
    "plt.legend()\n",
    "plt.show()"
   ]
  },
  {
   "cell_type": "markdown",
   "metadata": {},
   "source": [
    "De acuerdo con los valores de las importancias de las diferentes características utilizadas para la creación del modelo, ***adults*** (número de adultos en la búsqueda) es la que más importancia acapara, seguida de ***hotel_id*** (hotel en el que se ha hecho click), ***remite_id*** (mercado geográfico del portal) y, por último, ***children***(número de niños en la búsqueda)."
   ]
  },
  {
   "cell_type": "markdown",
   "metadata": {},
   "source": [
    "# Cajón de sastre"
   ]
  },
  {
   "cell_type": "code",
   "execution_count": null,
   "metadata": {},
   "outputs": [],
   "source": []
  }
 ],
 "metadata": {
  "kernelspec": {
   "display_name": "Python 2",
   "language": "python",
   "name": "python2"
  },
  "language_info": {
   "codemirror_mode": {
    "name": "ipython",
    "version": 2
   },
   "file_extension": ".py",
   "mimetype": "text/x-python",
   "name": "python",
   "nbconvert_exporter": "python",
   "pygments_lexer": "ipython2",
   "version": "2.7.15"
  }
 },
 "nbformat": 4,
 "nbformat_minor": 2
}
